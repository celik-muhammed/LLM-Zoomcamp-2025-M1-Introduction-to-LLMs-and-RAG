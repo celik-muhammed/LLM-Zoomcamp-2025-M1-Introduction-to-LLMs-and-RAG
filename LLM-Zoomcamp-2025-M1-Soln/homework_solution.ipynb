{
 "cells": [
  {
   "cell_type": "markdown",
   "id": "7392f0ab",
   "metadata": {},
   "source": [
    "<!-- +----------------+-----------------------------+--------------------------+\n",
    "| Tool           | Description                 | Best Use Case            |\n",
    "+================+=============================+==========================+\n",
    "| Anaconda       | Full Python data distro     | Beginner-friendly setup  |\n",
    "+----------------+-----------------------------+--------------------------+\n",
    "| Miniconda      | Minimal Conda installer     | Custom, lightweight envs |\n",
    "+----------------+-----------------------------+--------------------------+\n",
    "| Micromamba     | Fast Conda alternative      | CI/CD, containers        |\n",
    "+----------------+-----------------------------+--------------------------+ -->\n",
    "\n",
    "| Tool        | Description                                           | Best Use Case             | Size (initial)        | Download Link                                                                 |\n",
    "|-------------|-------------------------------------------------------|---------------------------|------------------------|--------------------------------------------------------------------------------|\n",
    "| Anaconda    | Full Python data distro                               | Beginner-friendly setup   | 🚛 Huge (~3–5 GB)      | [Archive 📦](https://repo.anaconda.com/archive/)                               |\n",
    "| Miniconda   | Minimal Conda installer (Python + conda)              | Custom, lightweight envs  | 📦 Small (~70 MB)      | [Miniconda Releases 🌐](https://repo.anaconda.com/miniconda/)                 |\n",
    "| Micromamba  | Fast, lightweight Conda-compatible CLI (C++ binary)   | CI/CD, containers         | 🪶 Tiny (~2 MB binary) | [Micromamba GitHub 🚀](https://github.com/mamba-org/micromamba-releases/tags) |\n",
    "\n"
   ]
  },
  {
   "cell_type": "code",
   "execution_count": null,
   "id": "39855d85",
   "metadata": {},
   "outputs": [],
   "source": [
    "# !conda init"
   ]
  },
  {
   "cell_type": "markdown",
   "id": "33dd07cf",
   "metadata": {},
   "source": [
    "## openai key \n",
    "\n",
    "- [platform.openai.com](https://platform.openai.com/docs/overview)\n",
    "- https://huggingface.co/"
   ]
  },
  {
   "cell_type": "code",
   "execution_count": 1,
   "id": "18f9b622",
   "metadata": {},
   "outputs": [],
   "source": [
    "# !pip install tqdm notebook jupyter ipywidgets"
   ]
  },
  {
   "cell_type": "code",
   "execution_count": 2,
   "id": "f782523b",
   "metadata": {},
   "outputs": [],
   "source": [
    "# !pip install openai transformers tensorflow tf-keras elasticsearch"
   ]
  },
  {
   "cell_type": "code",
   "execution_count": 3,
   "id": "7b5ccae8",
   "metadata": {},
   "outputs": [],
   "source": [
    "# !pip install huggingface_hub python-dotenv"
   ]
  },
  {
   "cell_type": "code",
   "execution_count": 4,
   "id": "c0e82b8d",
   "metadata": {},
   "outputs": [],
   "source": [
    "# import getpass\n",
    "\n",
    "# Securely prompt user for Hugging Face token (input will be hidden)\n",
    "# token = getpass.getpass(\"🔐 Enter your Hugging Face token: \").strip()\n",
    "\n",
    "# Validate token is not empty\n",
    "# if not token:\n",
    "#     raise ValueError(\"⚠️ Token input was empty. Please enter a valid token.\")"
   ]
  },
  {
   "cell_type": "code",
   "execution_count": 5,
   "id": "eea72fc1",
   "metadata": {},
   "outputs": [],
   "source": [
    "import os\n",
    "from dotenv import load_dotenv, find_dotenv\n",
    "\n",
    "# Load variables from .env file\n",
    "load_dotenv()\n",
    "\n",
    "# Get the token from environment variable\n",
    "# os.environ[\"HUGGINGFACE_TOKEN\"]\n",
    "# os.environ.get(\"HUGGINGFACE_TOKEN\", None)\n",
    "token = os.getenv(\"HUGGINGFACE_TOKEN\", None)"
   ]
  },
  {
   "cell_type": "code",
   "execution_count": 6,
   "id": "69ef1a01",
   "metadata": {},
   "outputs": [],
   "source": [
    "from huggingface_hub import login\n",
    "\n",
    "# Perform login – this stores the token in your local cache securely\n",
    "login(token=token)\n",
    "\n",
    "# print(\"✅ Successfully logged in to Hugging Face Hub.\")"
   ]
  },
  {
   "cell_type": "code",
   "execution_count": 7,
   "id": "405a3384-0d9b-4941-8200-59c99c2637dc",
   "metadata": {},
   "outputs": [
    {
     "data": {
      "text/plain": [
       "{'text': \"The purpose of this document is to capture frequently asked technical questions\\nThe exact day and hour of the course will be 15th Jan 2024 at 17h00. The course will start with the first  “Office Hours'' live.1\\nSubscribe to course public Google Calendar (it works from Desktop only).\\nRegister before the course starts using this link.\\nJoin the course Telegram channel with announcements.\\nDon’t forget to register in DataTalks.Club's Slack and join the channel.\",\n",
       " 'section': 'General course-related questions',\n",
       " 'question': 'Course - When will the course start?',\n",
       " 'course': 'data-engineering-zoomcamp'}"
      ]
     },
     "execution_count": 7,
     "metadata": {},
     "output_type": "execute_result"
    }
   ],
   "source": [
    "import requests \n",
    "\n",
    "docs_url = 'https://github.com/DataTalksClub/llm-zoomcamp/blob/main/01-intro/documents.json?raw=1'\n",
    "docs_response = requests.get(docs_url)\n",
    "documents_raw = docs_response.json()\n",
    "\n",
    "documents = []\n",
    "\n",
    "for course in documents_raw:\n",
    "    course_name = course['course']\n",
    "\n",
    "    for doc in course['documents']:\n",
    "        doc['course'] = course_name\n",
    "        documents.append(doc)\n",
    "\n",
    "documents[0]"
   ]
  },
  {
   "cell_type": "code",
   "execution_count": 8,
   "id": "73e28194",
   "metadata": {},
   "outputs": [],
   "source": [
    "# from transformers import pipeline\n",
    "\n",
    "# pipe = pipeline(\"text-generation\", model=\"HuggingFaceH4/zephyr-7b-beta\")\n",
    "# messages = [\n",
    "#     # {\"role\": \"user\", \"content\": \"Who are you?\"},\n",
    "#     documents[0]\n",
    "# ]\n",
    "# pipe(messages)\n",
    "\n",
    "# print(result)"
   ]
  },
  {
   "cell_type": "code",
   "execution_count": 9,
   "id": "f5383c61",
   "metadata": {},
   "outputs": [
    {
     "name": "stderr",
     "output_type": "stream",
     "text": [
      "2025-07-01 14:01:46.803530: I tensorflow/core/util/port.cc:153] oneDNN custom operations are on. You may see slightly different numerical results due to floating-point round-off errors from different computation orders. To turn them off, set the environment variable `TF_ENABLE_ONEDNN_OPTS=0`.\n",
      "2025-07-01 14:01:46.823176: I external/local_xla/xla/tsl/cuda/cudart_stub.cc:32] Could not find cuda drivers on your machine, GPU will not be used.\n",
      "2025-07-01 14:01:47.145312: I external/local_xla/xla/tsl/cuda/cudart_stub.cc:32] Could not find cuda drivers on your machine, GPU will not be used.\n",
      "2025-07-01 14:01:47.271588: E external/local_xla/xla/stream_executor/cuda/cuda_fft.cc:467] Unable to register cuFFT factory: Attempting to register factory for plugin cuFFT when one has already been registered\n",
      "WARNING: All log messages before absl::InitializeLog() is called are written to STDERR\n",
      "E0000 00:00:1751378507.586537   42325 cuda_dnn.cc:8579] Unable to register cuDNN factory: Attempting to register factory for plugin cuDNN when one has already been registered\n",
      "E0000 00:00:1751378507.670318   42325 cuda_blas.cc:1407] Unable to register cuBLAS factory: Attempting to register factory for plugin cuBLAS when one has already been registered\n",
      "W0000 00:00:1751378508.301671   42325 computation_placer.cc:177] computation placer already registered. Please check linkage and avoid linking the same target more than once.\n",
      "W0000 00:00:1751378508.301713   42325 computation_placer.cc:177] computation placer already registered. Please check linkage and avoid linking the same target more than once.\n",
      "W0000 00:00:1751378508.301718   42325 computation_placer.cc:177] computation placer already registered. Please check linkage and avoid linking the same target more than once.\n",
      "W0000 00:00:1751378508.301721   42325 computation_placer.cc:177] computation placer already registered. Please check linkage and avoid linking the same target more than once.\n",
      "2025-07-01 14:01:48.361405: I tensorflow/core/platform/cpu_feature_guard.cc:210] This TensorFlow binary is optimized to use available CPU instructions in performance-critical operations.\n",
      "To enable the following instructions: AVX2 AVX512F AVX512_VNNI FMA, in other operations, rebuild TensorFlow with the appropriate compiler flags.\n",
      "Device set to use cpu\n",
      "/usr/local/python/3.12.1/lib/python3.12/site-packages/transformers/pipelines/question_answering.py:390: FutureWarning: Passing a list of SQuAD examples to the pipeline is deprecated and will be removed in v5. Inputs should be passed using the `question` and `context` keyword arguments instead.\n",
      "  warnings.warn(\n"
     ]
    },
    {
     "name": "stdout",
     "output_type": "stream",
     "text": [
      "15th Jan 2024\n"
     ]
    }
   ],
   "source": [
    "from transformers import pipeline\n",
    "\n",
    "qa = pipeline(\"question-answering\", model=\"deepset/roberta-base-squad2\")\n",
    "\n",
    "result = qa({\n",
    "    \"context\": documents[0]['text'],\n",
    "    \"question\": documents[0]['question']\n",
    "})\n",
    "\n",
    "print(result[\"answer\"])\n"
   ]
  },
  {
   "cell_type": "code",
   "execution_count": null,
   "id": "8b39fdd6",
   "metadata": {},
   "outputs": [],
   "source": []
  },
  {
   "cell_type": "code",
   "execution_count": null,
   "id": "50368b29-f5a2-4c73-b52f-798e38973242",
   "metadata": {},
   "outputs": [],
   "source": [
    "from elasticsearch import Elasticsearch\n",
    "es_client = Elasticsearch('http://localhost:9200')\n",
    "es_client.info()"
   ]
  },
  {
   "cell_type": "code",
   "execution_count": null,
   "id": "df6c8319-3d03-48f0-b6f3-58c7a9c67fe4",
   "metadata": {},
   "outputs": [],
   "source": [
    "index_settings = {\n",
    "    \"settings\": {\n",
    "        \"number_of_shards\": 1,\n",
    "        \"number_of_replicas\": 0\n",
    "    },\n",
    "    \"mappings\": {\n",
    "        \"properties\": {\n",
    "            \"text\": {\"type\": \"text\"},\n",
    "            \"section\": {\"type\": \"text\"},\n",
    "            \"question\": {\"type\": \"text\"},\n",
    "            \"course\": {\"type\": \"keyword\"} \n",
    "        }\n",
    "    }\n",
    "}\n",
    "\n",
    "index_name = \"course-questions\"\n",
    "\n",
    "es_client.indices.create(index=index_name, body=index_settings)"
   ]
  },
  {
   "cell_type": "code",
   "execution_count": null,
   "id": "d2b1be47-06e4-4cd5-a6ec-cf92e9aa805e",
   "metadata": {},
   "outputs": [],
   "source": [
    "from tqdm.auto import tqdm "
   ]
  },
  {
   "cell_type": "code",
   "execution_count": null,
   "id": "eb40249b-9848-4a74-bc63-b652b1d3b8c5",
   "metadata": {},
   "outputs": [],
   "source": [
    "for doc in tqdm(documents):\n",
    "    es_client.index(index=index_name, document=doc)"
   ]
  },
  {
   "cell_type": "code",
   "execution_count": null,
   "id": "7fab4329-8230-4aca-b233-791442016072",
   "metadata": {},
   "outputs": [],
   "source": [
    "query = \"How do execute a command on a Kubernetes pod?\"\n",
    "\n",
    "search_query = {\n",
    "    \"size\": 5,\n",
    "    \"query\": {\n",
    "        \"bool\": {\n",
    "            \"must\": {\n",
    "                \"multi_match\": {\n",
    "                    \"query\": query,\n",
    "                    \"fields\": [\"question^4\", \"text\"],\n",
    "                    \"type\": \"best_fields\"\n",
    "                }\n",
    "            },\n",
    "        }\n",
    "    }\n",
    "}\n",
    "\n",
    "search_results = es_client.search(index=index_name, body=search_query)"
   ]
  },
  {
   "cell_type": "code",
   "execution_count": null,
   "id": "8ef01df1-283a-4140-aa05-bb0c0be1e58a",
   "metadata": {},
   "outputs": [],
   "source": [
    "search_results['hits']['hits'][0]['_score']"
   ]
  },
  {
   "cell_type": "code",
   "execution_count": null,
   "id": "5b26c1ca-b921-4886-8b52-432017d4a8bc",
   "metadata": {},
   "outputs": [],
   "source": [
    "query = \"How do copy a file to a Docker container?\"\n",
    "\n",
    "search_query = {\n",
    "    \"size\": 3,\n",
    "    \"query\": {\n",
    "        \"bool\": {\n",
    "            \"must\": {\n",
    "                \"multi_match\": {\n",
    "                    \"query\": query,\n",
    "                    \"fields\": [\"question^4\", \"text\"],\n",
    "                    \"type\": \"best_fields\"\n",
    "                }\n",
    "            },\n",
    "            \"filter\": {\n",
    "                \"term\": {\n",
    "                    \"course\": \"machine-learning-zoomcamp\"\n",
    "                }\n",
    "            }\n",
    "        }\n",
    "    }\n",
    "}\n",
    "\n",
    "search_results = es_client.search(index=index_name, body=search_query)"
   ]
  },
  {
   "cell_type": "code",
   "execution_count": null,
   "id": "377acaea-3752-43ce-b1d2-88845e3897b4",
   "metadata": {},
   "outputs": [],
   "source": [
    "search_results['hits']['hits']"
   ]
  },
  {
   "cell_type": "code",
   "execution_count": null,
   "id": "7ef298ee-70cc-4083-ab77-19f9d665bf7d",
   "metadata": {},
   "outputs": [],
   "source": [
    "context_template = \"\"\"\n",
    "Q: {question}\n",
    "A: {text}\n",
    "\"\"\".strip()\n",
    "\n",
    "prompt_template = \"\"\"\n",
    "You're a course teaching assistant. Answer the QUESTION based on the CONTEXT from the FAQ database.\n",
    "Use only the facts from the CONTEXT when answering the QUESTION.\n",
    "\n",
    "QUESTION: {question}\n",
    "\n",
    "CONTEXT:\n",
    "{context}\n",
    "\"\"\".strip()"
   ]
  },
  {
   "cell_type": "code",
   "execution_count": null,
   "id": "163fa4c5-1822-4770-8cdc-3614ddc359af",
   "metadata": {},
   "outputs": [],
   "source": [
    "context_pieces = []\n",
    "\n",
    "for hit in search_results['hits']['hits']:\n",
    "    doc = hit['_source']\n",
    "    context_piece = context_template.format(**doc)\n",
    "    context_pieces.append(context_piece)\n",
    "\n",
    "context = '\\n\\n'.join(context_pieces)"
   ]
  },
  {
   "cell_type": "code",
   "execution_count": null,
   "id": "3b5712cf-1b45-4a56-a7e2-8ff81dc850de",
   "metadata": {},
   "outputs": [],
   "source": [
    "prompt = prompt_template.format(question=query, context=context)"
   ]
  },
  {
   "cell_type": "code",
   "execution_count": null,
   "id": "e92826bc-1d93-43a4-8c2c-8483009a6494",
   "metadata": {},
   "outputs": [],
   "source": [
    "len(prompt)"
   ]
  },
  {
   "cell_type": "code",
   "execution_count": null,
   "id": "21bacfbd-b152-4173-8d03-055d5938cebe",
   "metadata": {},
   "outputs": [],
   "source": [
    "import tiktoken"
   ]
  },
  {
   "cell_type": "code",
   "execution_count": null,
   "id": "acae2085-c2d6-4e1f-98ce-3f039e2b3ac7",
   "metadata": {},
   "outputs": [],
   "source": [
    "print(prompt[:100])"
   ]
  },
  {
   "cell_type": "code",
   "execution_count": null,
   "id": "d512c5f2-3c73-4006-9b26-76819b88e3fa",
   "metadata": {},
   "outputs": [],
   "source": [
    "encoding = tiktoken.encoding_for_model(\"gpt-4o\")"
   ]
  },
  {
   "cell_type": "code",
   "execution_count": null,
   "id": "18fb5d96-f44a-4e7b-b076-97d390fedf6f",
   "metadata": {},
   "outputs": [],
   "source": [
    "len(encoding.encode(prompt))"
   ]
  },
  {
   "cell_type": "code",
   "execution_count": null,
   "id": "bdc331b5-a6a8-47ce-8769-bde1e71ee0ff",
   "metadata": {},
   "outputs": [],
   "source": [
    "tokens = encoding.encode(prompt)[:10]\n",
    "tokens"
   ]
  },
  {
   "cell_type": "code",
   "execution_count": null,
   "id": "cc0b5407-bccb-4e5a-8a6d-bd787c0d13f0",
   "metadata": {},
   "outputs": [],
   "source": [
    "encoding.decode_single_token_bytes(tokens[5])"
   ]
  },
  {
   "cell_type": "code",
   "execution_count": null,
   "id": "96a66a30-38eb-4c9d-9fb1-e053335cde9d",
   "metadata": {},
   "outputs": [],
   "source": []
  }
 ],
 "metadata": {
  "kernelspec": {
   "display_name": "Python 3 (ipykernel)",
   "language": "python",
   "name": "python3"
  },
  "language_info": {
   "codemirror_mode": {
    "name": "ipython",
    "version": 3
   },
   "file_extension": ".py",
   "mimetype": "text/x-python",
   "name": "python",
   "nbconvert_exporter": "python",
   "pygments_lexer": "ipython3",
   "version": "3.12.1"
  }
 },
 "nbformat": 4,
 "nbformat_minor": 5
}
